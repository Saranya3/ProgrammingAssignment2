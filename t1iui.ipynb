{
  "nbformat": 4,
  "nbformat_minor": 0,
  "metadata": {
    "colab": {
      "name": "t1iui.ipynb",
      "provenance": [],
      "collapsed_sections": [],
      "authorship_tag": "ABX9TyNup4YSQOkLcFoEZnss/gMe",
      "include_colab_link": true
    },
    "kernelspec": {
      "name": "python3",
      "display_name": "Python 3"
    }
  },
  "cells": [
    {
      "cell_type": "markdown",
      "metadata": {
        "id": "view-in-github",
        "colab_type": "text"
      },
      "source": [
        "<a href=\"https://colab.research.google.com/github/Saranya3/ProgrammingAssignment2/blob/master/t1iui.ipynb\" target=\"_parent\"><img src=\"https://colab.research.google.com/assets/colab-badge.svg\" alt=\"Open In Colab\"/></a>"
      ]
    },
    {
      "cell_type": "code",
      "metadata": {
        "id": "pMBAwOUhIyDl",
        "colab_type": "code",
        "outputId": "1dec5707-de52-45df-8369-145d19a8834a",
        "colab": {
          "base_uri": "https://localhost:8080/",
          "height": 122
        }
      },
      "source": [
        "from google.colab import drive\n",
        "drive.mount('/content/gdrive')\n"
      ],
      "execution_count": 1,
      "outputs": [
        {
          "output_type": "stream",
          "text": [
            "Go to this URL in a browser: https://accounts.google.com/o/oauth2/auth?client_id=947318989803-6bn6qk8qdgf4n4g3pfee6491hc0brc4i.apps.googleusercontent.com&redirect_uri=urn%3aietf%3awg%3aoauth%3a2.0%3aoob&response_type=code&scope=email%20https%3a%2f%2fwww.googleapis.com%2fauth%2fdocs.test%20https%3a%2f%2fwww.googleapis.com%2fauth%2fdrive%20https%3a%2f%2fwww.googleapis.com%2fauth%2fdrive.photos.readonly%20https%3a%2f%2fwww.googleapis.com%2fauth%2fpeopleapi.readonly\n",
            "\n",
            "Enter your authorization code:\n",
            "··········\n",
            "Mounted at /content/gdrive\n"
          ],
          "name": "stdout"
        }
      ]
    },
    {
      "cell_type": "code",
      "metadata": {
        "id": "pSR6iMZ2U33Z",
        "colab_type": "code",
        "colab": {}
      },
      "source": [
        "import sys\n",
        "import os\n",
        "import random\n",
        "from collections import Counter\n",
        "\n",
        "class MetaPathGenerator:\n",
        "\tdef __init__(self):\n",
        "\t\tself.art_user1 = dict()\n",
        "\t\tself.user_art1 = dict()\n",
        "\t\tself.map1 = dict()\n",
        "\t\t\n",
        "\n",
        "\tdef read_data(self, dirpath):\n",
        "\t\twith open(dirpath + \"/map1.txt\",encoding=\"utf-8\") as afile:\n",
        "\t\t\tfor line in afile:\n",
        "\t\t\t\ttoks = line.strip().split(\" \")\n",
        "\t\t\t\tif len(toks) == 2:\n",
        "\t\t\t\t\tself.map1[toks[0]] = toks[1].replace(\" \", \"\")\n",
        "\n",
        "\t\twith open(dirpath + \"/user_art1.txt\",encoding=\"utf-8\") as uafile:\n",
        "\t\t\tfor line in uafile:\n",
        "\t\t\t\ttoks = line.strip().split(\"\\t\")\n",
        "\t\t\t\tif len(toks) == 2:\n",
        "\t\t\t\t\tu, i = toks[0], toks[1]\n",
        "\t\t\t\t\tif u not in self.user_art1:\n",
        "\t\t\t\t\t\tself.user_art1[u] = []\n",
        "\t\t\t\t\tself.user_art1[u].append(i)\n",
        "\t\t\t\t\tif i not in self.art_user1:\n",
        "\t\t\t\t\t\tself.art_user1[i] = []\n",
        "\t\t\t\t\tself.art_user1[i].append(u)\n",
        "\t\t\n",
        "\tdef generate_random_iui(self,outfilename, numwalks, walklength) :\n",
        "\t\toutfile = open(outfilename, 'w')\n",
        "\t\tfor at in self.art_user1:\n",
        "\t\t\tat0 = at\n",
        "\t\t\tfor j in range(0, numwalks ):\n",
        "\t\t\t\toutline = self.map1[at0]\n",
        "\t\t\t\tfor i in range(0, walklength):\n",
        "\t\t\t\t\tusers = self.art_user1[at]\n",
        "\t\t\t\t\tnumu = len(users)\n",
        "\t\t\t\t\tuserid = random.randrange(numu)\n",
        "\t\t\t\t\tuser = users[userid]\n",
        "\t\t\t\t\toutline += \" \" + self.map1[user]\n",
        "\t\t\t\t\tars = self.user_art1[user]\n",
        "\t\t\t\t\tnuma = len(ars)\n",
        "\t\t\t\t\tarsid = random.randrange(numa)\n",
        "\t\t\t\t\tar = ars[arsid]\n",
        "\t\t\t\t\toutline += \" \" + self.map1[ar]\n",
        "\t\t\t\toutfile.write(outline + \"\\n\")\n",
        "                 \n",
        "\t\toutfile.close()\t\t\n",
        "#dirpath = \"last\"\n",
        "\n",
        "numwalks = 10\n",
        "walklength = 100\n",
        "dirpath = \"gdrive/My Drive/last\"\n",
        "outfilename = \"gdrive/My Drive/last/output1.txt\"\n",
        "\n",
        "def main() :\n",
        "\tmpg = MetaPathGenerator()\n",
        "\tmpg.read_data(dirpath)\n",
        "\tmpg.generate_random_iui(outfilename, numwalks, walklength)\n",
        "\t\n",
        "\n",
        "if __name__ == \"__main__\":\n",
        "\tmain()\n",
        "\n",
        "\n",
        "\n"
      ],
      "execution_count": 0,
      "outputs": []
    }
  ]
}